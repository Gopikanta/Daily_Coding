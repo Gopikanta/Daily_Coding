{
  "nbformat": 4,
  "nbformat_minor": 0,
  "metadata": {
    "colab": {
      "provenance": [],
      "cell_execution_strategy": "setup",
      "authorship_tag": "ABX9TyNmUuOKWhjLws61OJAbj4Au",
      "include_colab_link": true
    },
    "kernelspec": {
      "name": "python3",
      "display_name": "Python 3"
    },
    "language_info": {
      "name": "python"
    }
  },
  "cells": [
    {
      "cell_type": "markdown",
      "metadata": {
        "id": "view-in-github",
        "colab_type": "text"
      },
      "source": [
        "<a href=\"https://colab.research.google.com/github/Gopikanta/Daily_Coding/blob/main/daily_coding.ipynb\" target=\"_parent\"><img src=\"https://colab.research.google.com/assets/colab-badge.svg\" alt=\"Open In Colab\"/></a>"
      ]
    },
    {
      "cell_type": "markdown",
      "source": [
        "**Start Coding - Python**\n",
        "\n",
        "Complete the python code to print \"Hello World\".\n",
        "\n",
        "Example:\n",
        "\n",
        "Output: \"Hello World\""
      ],
      "metadata": {
        "id": "9Kk9rXRt-2-0"
      }
    },
    {
      "cell_type": "code",
      "source": [
        "print(\"Hello World\")"
      ],
      "metadata": {
        "id": "8ZGUM07I8QQS",
        "colab": {
          "base_uri": "https://localhost:8080/"
        },
        "outputId": "90caee46-eb06-48d7-8b33-09ec0129806e"
      },
      "execution_count": 1,
      "outputs": [
        {
          "output_type": "stream",
          "name": "stdout",
          "text": [
            "Hello World\n"
          ]
        }
      ]
    },
    {
      "cell_type": "markdown",
      "source": [
        "**Learn to Comment - Python**\n",
        "\n",
        "\n",
        "In Python, comments can be written as mentioned below: # This is a comment\n",
        "\"\"\" This is also a comment \"\"\"\n",
        "You are given a complete function that outputs a, b, and c. Comment the code that outputs b, so only a and c gets printed.\n",
        "\n",
        "Examples:\n",
        "\n",
        "Input: a = 5, b = 6, c = 15\n",
        "Output:\n",
        "5\n",
        "15\n",
        "Input:a = 5, b = 8, c = 15\n",
        "Output:\n",
        "5\n",
        "15"
      ],
      "metadata": {
        "id": "olCtp_gA_iQs"
      }
    },
    {
      "cell_type": "code",
      "source": [
        "def values(a, b, c):\n",
        "  print(a)\n",
        "  #print(b)\n",
        "  print(c)\n",
        "\n",
        "values(5, 6, 15)\n",
        "values(5, 8, 15)"
      ],
      "metadata": {
        "id": "s8Lp6D3-8jXB",
        "colab": {
          "base_uri": "https://localhost:8080/"
        },
        "outputId": "41807093-708d-4da0-96ac-874ea18fd30a"
      },
      "execution_count": null,
      "outputs": [
        {
          "output_type": "stream",
          "name": "stdout",
          "text": [
            "5\n",
            "15\n",
            "5\n",
            "15\n"
          ]
        }
      ]
    },
    {
      "cell_type": "markdown",
      "source": [
        "**Print In Python**\n",
        "\n",
        "You are given two variables, a and b. Your task is to print these variables in the following formats:\n",
        "\n",
        "With space: Print a and b in a single line, separated by a space, followed by a newline.\n",
        "Without newline: Print a and b separated by a space, but do not end the output with a newline.\n",
        "With separator: Print a and b separated by a specified separator, followed by a newline.\n",
        "Without space: Print a and b in a single line, with no spaces between them, followed by a newline.\n",
        "Examples:\n",
        "\n",
        "Input: a = \"Hello\", b = \"World\", separator = '&'\n",
        "Output:\n",
        "Hello World\n",
        "Hello WorldHello&World\n",
        "HelloWorld\n",
        "\n"
      ],
      "metadata": {
        "id": "zmT7_1-TARnX"
      }
    },
    {
      "cell_type": "code",
      "source": [
        "a = \"Hello\"\n",
        "b = \"World\"\n",
        "separator = '&'\n",
        "#With space\n",
        "print(a , b)\n",
        "#Without newline and #With Separator\n",
        "print(a,b, sep=\" \",end = \"\")\n",
        "print(a+separator+b)\n",
        "#Without space\n",
        "print(a+b)\n"
      ],
      "metadata": {
        "colab": {
          "base_uri": "https://localhost:8080/"
        },
        "id": "mTj8JMNmAQ2X",
        "outputId": "59cc834e-9b7d-4d82-a8d4-5414a22bc727"
      },
      "execution_count": null,
      "outputs": [
        {
          "output_type": "stream",
          "name": "stdout",
          "text": [
            "Hello World\n",
            "Hello WorldHello&World\n",
            "HelloWorld\n"
          ]
        }
      ]
    },
    {
      "cell_type": "markdown",
      "source": [
        "**Multi Printing**\n",
        "\n",
        "Given two inputs that are stored in variables a and n, you need to print a, n times in a single line without space between them. Output must have a newline at the end.\n",
        "\n",
        "Examples:\n",
        "\n",
        "Input: a = \"Hello\", n = 5\n",
        "Output: HelloHelloHelloHelloHello\n",
        "Explanation: a is printed n=5 times in a single line without space between them."
      ],
      "metadata": {
        "id": "grj-Uxo9LtK5"
      }
    },
    {
      "cell_type": "code",
      "source": [
        "a = \"Hello\"\n",
        "n = 5\n",
        "print(a*n,end = \"\\n\")\n",
        "\n",
        "#using loop\n",
        "\n",
        "a = \"Hello\"\n",
        "n = 5\n",
        "for i in range (n):\n",
        "  print(a, end =\"\")\n",
        "print()\n",
        "\n",
        "#using while loop\n",
        "\n",
        "a = \"Hello\"\n",
        "n = 5\n",
        "\n",
        "i = 1\n",
        "while i <= 5:\n",
        "  print(a, end = \"\")\n",
        "  i = i + 1\n",
        "print()"
      ],
      "metadata": {
        "colab": {
          "base_uri": "https://localhost:8080/"
        },
        "id": "dyt6IfpHLsq4",
        "outputId": "82617fa9-204e-4883-9e1c-0872618b0212"
      },
      "execution_count": null,
      "outputs": [
        {
          "output_type": "stream",
          "name": "stdout",
          "text": [
            "HelloHelloHelloHelloHello\n",
            "HelloHelloHelloHelloHello\n",
            "HelloHelloHelloHelloHello\n"
          ]
        }
      ]
    },
    {
      "cell_type": "markdown",
      "source": [
        "**Int Str**\n",
        "\n",
        "Given three inputs that are stored in the variables a, b, and c. You need to print a a times and b b times  in a single line separated by c.\n",
        "\n",
        "Examples:\n",
        "\n",
        "Input: a = 6, b = 4, c = &\n",
        "Output: 666666&4444\n",
        "Explanation: 6 printed 6 times and 4 printed 4 times seperated by c = &."
      ],
      "metadata": {
        "id": "N1Yb6iK2Rhkr"
      }
    },
    {
      "cell_type": "code",
      "source": [
        "a = 6\n",
        "b = 4\n",
        "c = \"&\"\n",
        "for i in range(a):\n",
        "  print(a, end =\"\")\n",
        "print(c, end=\"\")\n",
        "for i in range(b):\n",
        "  print(b,end=\"\")\n",
        "\n",
        "\n",
        "# another way\n",
        "a = 6\n",
        "b = 4\n",
        "c = \"&\"\n",
        "\n",
        "print(str(a) * a + c + str(b) * b)\n",
        "\n",
        "\n",
        "#using while loop\n",
        "a = 6\n",
        "b = 4\n",
        "c = \"&\"\n",
        "\n",
        "i = 0\n",
        "while i < a:\n",
        "    print(a, end=\"\")\n",
        "    i += 1\n",
        "\n",
        "print(c, end=\"\")\n",
        "\n",
        "j = 0\n",
        "while j < b:\n",
        "    print(b, end=\"\")\n",
        "    j += 1\n",
        "\n",
        "print()  # optional: to move to the next line after output"
      ],
      "metadata": {
        "colab": {
          "base_uri": "https://localhost:8080/"
        },
        "id": "0AD4UcSIRYoY",
        "outputId": "769b704b-4850-43e4-e6be-4006f195dda0"
      },
      "execution_count": null,
      "outputs": [
        {
          "output_type": "stream",
          "name": "stdout",
          "text": [
            "666666&4444666666&4444\n",
            "666666&4444\n"
          ]
        }
      ]
    },
    {
      "cell_type": "markdown",
      "source": [
        "**Input in Python**\n",
        "\n",
        "\n",
        "You need to perform three separate tasks based on the given input:\n",
        "String Input and Print: Take a text input as a string and print it as it is.Integer Input and Add: Take an integer input n, add 10 to it, and print the result.Float Input and Multiply: Take a floating-point number as input, multiply it by 10, and print the result.\n",
        "Examples:\n",
        "Input: s = \"Hello\", n = 20, f = 5.5\n",
        "Output:\n",
        "Hello\n",
        "30\n",
        "55.0\n",
        "Explanation:\n",
        "The string Hello is printed as it is.\n",
        "The integer 20 is increased by 10 and results in 30.\n",
        "The floating-point number 5.5 is multiplied by 10 and results in 55.0."
      ],
      "metadata": {
        "id": "knhWowCfJ92b"
      }
    },
    {
      "cell_type": "code",
      "source": [
        "s =\"Hello\"\n",
        "print(s)\n",
        "n = 20\n",
        "print(n + 10)\n",
        "f = 5.5\n",
        "print(f * 10)"
      ],
      "metadata": {
        "colab": {
          "base_uri": "https://localhost:8080/"
        },
        "id": "07hsaq2xKPrO",
        "outputId": "e838fcc7-c315-4451-822f-1c2c9b2978a5"
      },
      "execution_count": null,
      "outputs": [
        {
          "output_type": "stream",
          "name": "stdout",
          "text": [
            "Hello\n",
            "30\n",
            "55.0\n"
          ]
        }
      ]
    },
    {
      "cell_type": "markdown",
      "source": [
        "**Arithmetic Operators**\n",
        "\n",
        "You are given two integer variables x and y. You need to perform the following operations:\n",
        "p = x + y : Additionq = x - y : Subtractionr = x * y :Multiplications = x / y : Divisiont = x % y : Modulo\n",
        "Examples:\n",
        "Input: x = 1, y = 2\n",
        "Output: 3 -1 2 0 1\n",
        "Explanation: The given operations are performed."
      ],
      "metadata": {
        "id": "TlLEJeNcOLak"
      }
    },
    {
      "cell_type": "code",
      "source": [
        "x = 1\n",
        "y = 2\n",
        "print(x + y, x - y, x * y, x // y, x % y)"
      ],
      "metadata": {
        "colab": {
          "base_uri": "https://localhost:8080/"
        },
        "id": "TcmIkv-mOZbr",
        "outputId": "6540c2bf-54e3-4062-8017-865a5159bad2"
      },
      "execution_count": null,
      "outputs": [
        {
          "output_type": "stream",
          "name": "stdout",
          "text": [
            "3 -1 2 0 1\n"
          ]
        }
      ]
    },
    {
      "cell_type": "markdown",
      "source": [
        "**Logical Operators**\n",
        "\n",
        "Logical operators and, or, not are used in condition checking. Like a and b checks if both a and b are True. First a is checked then b is checked. a or b checks if either of a or b is True. If one is True; it doesn't check for the other. not a complements the boolean value of a.\n",
        "Note: 0 and empty string are False and all other values are True.\n",
        "In this question you basically need to do\n",
        "a and b\n",
        "a or b\n",
        "not a\n",
        "\n",
        "Examples:\n",
        "\n",
        "Input: a = 0, b = 2\n",
        "Output: 0 2 True\n",
        "Explanation: 0 and 2 gives 0. 0 or 2 gives 2. not 0 give True as 0 is False.\n",
        "Input: a = 3, b = 4\n",
        "Output: 4 3 False\n",
        "Explanation: 3 and 4 gives 4 as 3 is True and 4 is also True, so all conditions are passed. 3 or 4 gives 3 as or only checks if either of the condition is true and here 3 is True itself so it doesn't proceed forward. not 3 gives False as 3 was True.\n"
      ],
      "metadata": {
        "id": "znIUIoM0G78l"
      }
    },
    {
      "cell_type": "code",
      "source": [
        "a = 0\n",
        "b = 2\n",
        "\n",
        "\n",
        "print(a and b, a or b, not a)\n"
      ],
      "metadata": {
        "colab": {
          "base_uri": "https://localhost:8080/"
        },
        "id": "gGiRVWoDHl1T",
        "outputId": "b7f7ba13-f94e-4964-8d18-88e370361430"
      },
      "execution_count": 2,
      "outputs": [
        {
          "output_type": "stream",
          "name": "stdout",
          "text": [
            "0 2 True\n"
          ]
        }
      ]
    },
    {
      "cell_type": "markdown",
      "source": [
        "**Bitwise Operators**\n",
        "\n",
        "https://colab.research.google.com/drive/16dhknOlcXygOAMw26Woy4zUtzLEAcUww#scrollTo=3WJfozUwIi4K&line=14&uniqifier=1\n",
        "\n",
        "Given three positive integers a, b and c. Your task is to perform some bitwise operations on them as given below:\n",
        "1. d = a ^ a\n",
        "2. e = c ^ b\n",
        "3. f = a & b\n",
        "4. g = c | (a ^ a)\n",
        "5. e = ~ e\n",
        "\n",
        "Note: ^ is for xor.\n",
        "\n",
        "Then print d e f g space seperately. Move the cursor to the next line after printing.\n",
        "\n",
        "Input: a = 1, b = 2, c = 3\n",
        "Output: 0 -2 0 3\n",
        "Explanation: We print d e f g after performing the given operations."
      ],
      "metadata": {
        "id": "3WJfozUwIi4K"
      }
    },
    {
      "cell_type": "code",
      "source": [
        "a = 1\n",
        "b = 2\n",
        "c = 3\n",
        "d = a ^ a\n",
        "e = c ^ b\n",
        "f = a & b\n",
        "g = c | (a ^ a)\n",
        "e = ~ e\n",
        "print(d, e, f, g)"
      ],
      "metadata": {
        "colab": {
          "base_uri": "https://localhost:8080/"
        },
        "id": "gC4J3NeWI-pf",
        "outputId": "4463288f-2d8d-4a0a-a634-867fe34964c8"
      },
      "execution_count": 3,
      "outputs": [
        {
          "output_type": "stream",
          "name": "stdout",
          "text": [
            "0 -2 0 3\n"
          ]
        }
      ]
    },
    {
      "cell_type": "markdown",
      "source": [
        "**Type Conversion**\n",
        "\n",
        "Given a double value d, typecast it to an integer value and print it.\n",
        "\n",
        "Example:\n",
        "\n",
        "Input: d = 10.23\n",
        "Output: 10\n",
        "\n",
        "Explanation: The integer value of 10.23 is 10"
      ],
      "metadata": {
        "id": "T_e3xkC5NSZO"
      }
    },
    {
      "cell_type": "code",
      "source": [
        "d = 10.23\n",
        "print(int(d))"
      ],
      "metadata": {
        "colab": {
          "base_uri": "https://localhost:8080/"
        },
        "id": "5F0qk3VlNjv9",
        "outputId": "78691995-ca05-4725-c67a-cbc7e02ff13e"
      },
      "execution_count": 4,
      "outputs": [
        {
          "output_type": "stream",
          "name": "stdout",
          "text": [
            "10\n"
          ]
        }
      ]
    },
    {
      "cell_type": "markdown",
      "source": [
        "**TypeCast And Double It**\n",
        "\n",
        "Given an input num as a string. You need to typecast into an integer and double it.\n",
        "\n",
        "Examples:\n",
        "\n",
        "Input: num = \"5\"\n",
        "Output: 10\n",
        "Explanation: Typecast \"5\" to int and then double it 5 * 2 = 10"
      ],
      "metadata": {
        "id": "Qfyhm46IO5a8"
      }
    },
    {
      "cell_type": "code",
      "source": [
        "num = \"5\"\n",
        "print(int(num) * 2)"
      ],
      "metadata": {
        "colab": {
          "base_uri": "https://localhost:8080/"
        },
        "id": "xZgu4OuEPBnF",
        "outputId": "cf68345c-85e2-458b-f653-6517fe5c3b2c"
      },
      "execution_count": 6,
      "outputs": [
        {
          "output_type": "stream",
          "name": "stdout",
          "text": [
            "10\n"
          ]
        }
      ]
    },
    {
      "cell_type": "markdown",
      "source": [
        "**The Modulo Task**\n",
        "\n",
        "Given an integer N. FInd an integer K for which N%K is the largest ( 1 <= K < N).\n",
        "\n",
        "\n",
        "\n",
        "Example 1:\n",
        "\n",
        "Input:\n",
        "N = 3\n",
        "Output:\n",
        "2\n",
        "\n",
        "Explanation:\n",
        "\n",
        "3%1 = 0\n",
        "\n",
        "3%2 = 1\n",
        "\n",
        "So, the modulo is highest for 2."
      ],
      "metadata": {
        "id": "ZWMqZ3y3PsrK"
      }
    },
    {
      "cell_type": "code",
      "source": [
        "N = 3\n",
        "max_modulo = -1\n",
        "best_k = -1\n",
        "\n",
        "# Loop from 1 to N-1\n",
        "for k in range(1, N):\n",
        "    current_modulo = N % k\n",
        "    if current_modulo > max_modulo:\n",
        "        max_modulo = current_modulo\n",
        "        best_k = k\n",
        "\n",
        "# Print the result\n",
        "print(best_k)"
      ],
      "metadata": {
        "colab": {
          "base_uri": "https://localhost:8080/"
        },
        "id": "OCR4jemuR2n_",
        "outputId": "ebd5e58f-38db-44f2-b79a-6c93241874b9"
      },
      "execution_count": 8,
      "outputs": [
        {
          "output_type": "stream",
          "name": "stdout",
          "text": [
            "2\n"
          ]
        }
      ]
    }
  ]
}