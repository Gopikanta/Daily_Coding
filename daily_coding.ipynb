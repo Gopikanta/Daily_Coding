{
  "nbformat": 4,
  "nbformat_minor": 0,
  "metadata": {
    "colab": {
      "provenance": [],
      "cell_execution_strategy": "setup",
      "authorship_tag": "ABX9TyNYG9TkHmuSa1rUb51IqvUD",
      "include_colab_link": true
    },
    "kernelspec": {
      "name": "python3",
      "display_name": "Python 3"
    },
    "language_info": {
      "name": "python"
    }
  },
  "cells": [
    {
      "cell_type": "markdown",
      "metadata": {
        "id": "view-in-github",
        "colab_type": "text"
      },
      "source": [
        "<a href=\"https://colab.research.google.com/github/Gopikanta/Daily_Coding/blob/main/daily_coding.ipynb\" target=\"_parent\"><img src=\"https://colab.research.google.com/assets/colab-badge.svg\" alt=\"Open In Colab\"/></a>"
      ]
    },
    {
      "cell_type": "markdown",
      "source": [
        "**Start Coding - Python**\n",
        "\n",
        "Complete the python code to print \"Hello World\".\n",
        "\n",
        "Example:\n",
        "\n",
        "Output: \"Hello World\""
      ],
      "metadata": {
        "id": "9Kk9rXRt-2-0"
      }
    },
    {
      "cell_type": "code",
      "source": [
        "print(\"Hello World\")"
      ],
      "metadata": {
        "id": "8ZGUM07I8QQS",
        "colab": {
          "base_uri": "https://localhost:8080/"
        },
        "outputId": "3f1c13a9-c73e-472b-99d3-ad9d63ca1847"
      },
      "execution_count": 2,
      "outputs": [
        {
          "output_type": "stream",
          "name": "stdout",
          "text": [
            "Hello World\n"
          ]
        }
      ]
    },
    {
      "cell_type": "markdown",
      "source": [
        "**Learn to Comment - Python**\n",
        "\n",
        "\n",
        "In Python, comments can be written as mentioned below: # This is a comment\n",
        "\"\"\" This is also a comment \"\"\"\n",
        "You are given a complete function that outputs a, b, and c. Comment the code that outputs b, so only a and c gets printed.\n",
        "\n",
        "Examples:\n",
        "\n",
        "Input: a = 5, b = 6, c = 15\n",
        "Output:\n",
        "5\n",
        "15\n",
        "Input:a = 5, b = 8, c = 15\n",
        "Output:\n",
        "5\n",
        "15"
      ],
      "metadata": {
        "id": "olCtp_gA_iQs"
      }
    },
    {
      "cell_type": "code",
      "source": [
        "def values(a, b, c):\n",
        "  print(a)\n",
        "  #print(b)\n",
        "  print(c)\n",
        "\n",
        "values(5, 6, 15)\n",
        "values(5, 8, 15)"
      ],
      "metadata": {
        "id": "s8Lp6D3-8jXB",
        "colab": {
          "base_uri": "https://localhost:8080/"
        },
        "outputId": "41807093-708d-4da0-96ac-874ea18fd30a"
      },
      "execution_count": 3,
      "outputs": [
        {
          "output_type": "stream",
          "name": "stdout",
          "text": [
            "5\n",
            "15\n",
            "5\n",
            "15\n"
          ]
        }
      ]
    },
    {
      "cell_type": "markdown",
      "source": [
        "**Print In Python**\n",
        "\n",
        "You are given two variables, a and b. Your task is to print these variables in the following formats:\n",
        "\n",
        "With space: Print a and b in a single line, separated by a space, followed by a newline.\n",
        "Without newline: Print a and b separated by a space, but do not end the output with a newline.\n",
        "With separator: Print a and b separated by a specified separator, followed by a newline.\n",
        "Without space: Print a and b in a single line, with no spaces between them, followed by a newline.\n",
        "Examples:\n",
        "\n",
        "Input: a = \"Hello\", b = \"World\", separator = '&'\n",
        "Output:\n",
        "Hello World\n",
        "Hello WorldHello&World\n",
        "HelloWorld\n",
        "\n"
      ],
      "metadata": {
        "id": "zmT7_1-TARnX"
      }
    },
    {
      "cell_type": "code",
      "source": [
        "a = \"Hello\"\n",
        "b = \"World\"\n",
        "separator = '&'\n",
        "#With space\n",
        "print(a , b)\n",
        "#Without newline and #With Separator\n",
        "print(a,b, sep=\" \",end = \"\")\n",
        "print(a+separator+b)\n",
        "#Without space\n",
        "print(a+b)\n"
      ],
      "metadata": {
        "colab": {
          "base_uri": "https://localhost:8080/"
        },
        "id": "mTj8JMNmAQ2X",
        "outputId": "59cc834e-9b7d-4d82-a8d4-5414a22bc727"
      },
      "execution_count": 27,
      "outputs": [
        {
          "output_type": "stream",
          "name": "stdout",
          "text": [
            "Hello World\n",
            "Hello WorldHello&World\n",
            "HelloWorld\n"
          ]
        }
      ]
    },
    {
      "cell_type": "markdown",
      "source": [
        "**Multi Printing**\n",
        "\n",
        "Given two inputs that are stored in variables a and n, you need to print a, n times in a single line without space between them. Output must have a newline at the end.\n",
        "\n",
        "Examples:\n",
        "\n",
        "Input: a = \"Hello\", n = 5\n",
        "Output: HelloHelloHelloHelloHello\n",
        "Explanation: a is printed n=5 times in a single line without space between them."
      ],
      "metadata": {
        "id": "grj-Uxo9LtK5"
      }
    },
    {
      "cell_type": "code",
      "source": [
        "a = \"Hello\"\n",
        "n = 5\n",
        "print(a*n,end = \"\\n\")\n",
        "\n",
        "#using loop\n",
        "\n",
        "a = \"Hello\"\n",
        "n = 5\n",
        "for i in range (n):\n",
        "  print(a, end =\"\")\n",
        "print()\n",
        "\n",
        "#using while loop\n",
        "\n",
        "a = \"Hello\"\n",
        "n = 5\n",
        "\n",
        "i = 1\n",
        "while i <= 5:\n",
        "  print(a, end = \"\")\n",
        "  i = i + 1\n",
        "print()"
      ],
      "metadata": {
        "colab": {
          "base_uri": "https://localhost:8080/"
        },
        "id": "dyt6IfpHLsq4",
        "outputId": "82617fa9-204e-4883-9e1c-0872618b0212"
      },
      "execution_count": 37,
      "outputs": [
        {
          "output_type": "stream",
          "name": "stdout",
          "text": [
            "HelloHelloHelloHelloHello\n",
            "HelloHelloHelloHelloHello\n",
            "HelloHelloHelloHelloHello\n"
          ]
        }
      ]
    },
    {
      "cell_type": "markdown",
      "source": [
        "**Int Str**\n",
        "\n",
        "Given three inputs that are stored in the variables a, b, and c. You need to print a a times and b b times  in a single line separated by c.\n",
        "\n",
        "Examples:\n",
        "\n",
        "Input: a = 6, b = 4, c = &\n",
        "Output: 666666&4444\n",
        "Explanation: 6 printed 6 times and 4 printed 4 times seperated by c = &."
      ],
      "metadata": {
        "id": "N1Yb6iK2Rhkr"
      }
    },
    {
      "cell_type": "code",
      "source": [
        "a = 6\n",
        "b = 4\n",
        "c = \"&\"\n",
        "for i in range(a):\n",
        "  print(a, end =\"\")\n",
        "print(c, end=\"\")\n",
        "for i in range(b):\n",
        "  print(b,end=\"\")\n",
        "\n",
        "\n",
        "# another way\n",
        "a = 6\n",
        "b = 4\n",
        "c = \"&\"\n",
        "\n",
        "print(str(a) * a + c + str(b) * b)\n",
        "\n",
        "\n",
        "#using while loop\n",
        "a = 6\n",
        "b = 4\n",
        "c = \"&\"\n",
        "\n",
        "i = 0\n",
        "while i < a:\n",
        "    print(a, end=\"\")\n",
        "    i += 1\n",
        "\n",
        "print(c, end=\"\")\n",
        "\n",
        "j = 0\n",
        "while j < b:\n",
        "    print(b, end=\"\")\n",
        "    j += 1\n",
        "\n",
        "print()  # optional: to move to the next line after output\n"
      ],
      "metadata": {
        "colab": {
          "base_uri": "https://localhost:8080/"
        },
        "id": "0AD4UcSIRYoY",
        "outputId": "769b704b-4850-43e4-e6be-4006f195dda0"
      },
      "execution_count": 57,
      "outputs": [
        {
          "output_type": "stream",
          "name": "stdout",
          "text": [
            "666666&4444666666&4444\n",
            "666666&4444\n"
          ]
        }
      ]
    }
  ]
}