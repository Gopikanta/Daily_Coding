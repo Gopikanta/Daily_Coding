{
  "nbformat": 4,
  "nbformat_minor": 0,
  "metadata": {
    "colab": {
      "provenance": [],
      "authorship_tag": "ABX9TyMf4LLGNtuULM89jZp6S5vX",
      "include_colab_link": true
    },
    "kernelspec": {
      "name": "python3",
      "display_name": "Python 3"
    },
    "language_info": {
      "name": "python"
    }
  },
  "cells": [
    {
      "cell_type": "markdown",
      "metadata": {
        "id": "view-in-github",
        "colab_type": "text"
      },
      "source": [
        "<a href=\"https://colab.research.google.com/github/Gopikanta/Daily_Coding/blob/main/daily_coding.ipynb\" target=\"_parent\"><img src=\"https://colab.research.google.com/assets/colab-badge.svg\" alt=\"Open In Colab\"/></a>"
      ]
    },
    {
      "cell_type": "markdown",
      "source": [
        "[Python Codin Practice](https://www.geeksforgeeks.org/python-coding-practice-problems/)"
      ],
      "metadata": {
        "id": "cKEeX7vvGY8I"
      }
    },
    {
      "cell_type": "markdown",
      "source": [
        "                                         **14th May 2025**\n",
        "\n",
        "**Start Coding - Python**\n",
        "\n",
        "Complete the python code to print \"Hello WOrld\"\n",
        "\n",
        "Example :\n",
        "\n",
        "Output : Hello World\n",
        "\n"
      ],
      "metadata": {
        "id": "hJNUKE3vQ9aF"
      }
    },
    {
      "cell_type": "code",
      "execution_count": null,
      "metadata": {
        "colab": {
          "base_uri": "https://localhost:8080/"
        },
        "id": "0qyJcyLCN_CL",
        "outputId": "bcdbf889-8db7-4ef9-b6f2-c011d1518cb1"
      },
      "outputs": [
        {
          "output_type": "stream",
          "name": "stdout",
          "text": [
            "Hello World\n"
          ]
        }
      ],
      "source": [
        "print(\"Hello World\")"
      ]
    },
    {
      "cell_type": "markdown",
      "source": [
        "**Learn to Comment - Python**\n",
        "\n",
        "In python, comments can be writtern as mentioned below\n",
        "\n",
        "You are given a complete function that outputs a, b, and c . Comment the code that outputs b, so only a and c gets printed.\n",
        "\n",
        "Examples:\n",
        "\n",
        "Input a = 5, b = 6, c = 15\n",
        "\n",
        "Output :\n",
        "5\n",
        "\n",
        "15\n",
        "\n",
        "Input a = 5, b = 8, c = 15\n",
        "\n",
        "Output:\n",
        "\n",
        "5\n",
        "\n",
        "15\n"
      ],
      "metadata": {
        "id": "20yj1H37Ryde"
      }
    },
    {
      "cell_type": "code",
      "source": [
        "def values(a, b, c):\n",
        "  print(a)\n",
        "  #print(b)\n",
        "  print(c)\n",
        "\n",
        "values(5, 6, 15)\n",
        "values(5, 8, 15)"
      ],
      "metadata": {
        "colab": {
          "base_uri": "https://localhost:8080/"
        },
        "id": "ANnPtzf3Rxf-",
        "outputId": "aeaaa79e-709f-4c12-8153-0e05bf1c103a"
      },
      "execution_count": null,
      "outputs": [
        {
          "output_type": "stream",
          "name": "stdout",
          "text": [
            "5\n",
            "15\n",
            "5\n",
            "15\n"
          ]
        }
      ]
    },
    {
      "cell_type": "markdown",
      "source": [
        "**Print ln Python**\n",
        "\n",
        "\n",
        "\n",
        "You are given two variables, a and b. Your task is to print these variables in the following formats:\n",
        "\n",
        "With space: Print a and b in a single line, separated by a space, followed by a newline. Without newline: Print a and b separated by a space, but do not end the output with a newline. With separator: Print a and b separated by a specified separator, followed by a newline. Without space: Print a and b in a single line, with no spaces between them, followed by a newline. Examples:\n",
        "\n",
        "Input: a = \"Hello\", b = \"World\", separator = '&' Output: Hello World Hello WorldHello&World HelloWorld"
      ],
      "metadata": {
        "id": "Nf4EMYh-TURW"
      }
    },
    {
      "cell_type": "code",
      "source": [
        "a = \"Hello\"\n",
        "b = \"World\"\n",
        "separator = '&'\n",
        "#With space\n",
        "print(a , b)\n",
        "#Without newline and #With Separator\n",
        "print(a,b, sep=\" \",end = \"\")\n",
        "print(a+separator+b)\n",
        "#Without space\n",
        "print(a+b)"
      ],
      "metadata": {
        "colab": {
          "base_uri": "https://localhost:8080/"
        },
        "id": "vH-us0shTTnT",
        "outputId": "bfec541b-9e20-4e4a-c504-4a812218c166"
      },
      "execution_count": null,
      "outputs": [
        {
          "output_type": "stream",
          "name": "stdout",
          "text": [
            "Hello World\n",
            "Hello WorldHello&World\n",
            "HelloWorld\n"
          ]
        }
      ]
    },
    {
      "cell_type": "markdown",
      "source": [
        "**Multi Printing**\n",
        "\n",
        "\n",
        "Given two inputs that are stored in variables a and n, you need to print a, n times in a single line without space between them. Output must have a newline at the end.\n",
        "\n",
        "Examples:\n",
        "\n",
        "Input: a = \"Hello\", n = 5 Output: HelloHelloHelloHelloHello Explanation: a is printed n=5 times in a single line without space between them."
      ],
      "metadata": {
        "id": "78GWIfs1TxHp"
      }
    },
    {
      "cell_type": "code",
      "source": [
        "a = \"Hello\"\n",
        "n = 5\n",
        "print(a*n,end = \"\\n\")\n",
        "\n",
        "#using loop\n",
        "\n",
        "a = \"Hello\"\n",
        "n = 5\n",
        "for i in range (n):\n",
        "  print(a, end =\"\")\n",
        "print()\n",
        "\n",
        "#using while loop\n",
        "\n",
        "a = \"Hello\"\n",
        "n = 5\n",
        "\n",
        "i = 1\n",
        "while i <= 5:\n",
        "  print(a, end = \"\")\n",
        "  i = i + 1\n",
        "print()"
      ],
      "metadata": {
        "colab": {
          "base_uri": "https://localhost:8080/"
        },
        "id": "XGLkVphyTwj5",
        "outputId": "d779436c-00f8-4eca-b9cb-5f89ca06e767"
      },
      "execution_count": null,
      "outputs": [
        {
          "output_type": "stream",
          "name": "stdout",
          "text": [
            "HelloHelloHelloHelloHello\n",
            "HelloHelloHelloHelloHello\n",
            "HelloHelloHelloHelloHello\n"
          ]
        }
      ]
    },
    {
      "cell_type": "markdown",
      "source": [
        "**Int Str**\n",
        "\n",
        "Given three inputs that are stored in the variables a, b, and c. You need to print a a times and b b times in a single line separated by c.\n",
        "\n",
        "Examples:\n",
        "\n",
        "Input: a = 6, b = 4, c = & Output: 666666&4444 Explanation: 6 printed 6 times and 4 printed 4 times seperated by c = &."
      ],
      "metadata": {
        "id": "lQ6F-QjrUClr"
      }
    },
    {
      "cell_type": "code",
      "source": [
        "a = 6\n",
        "b = 4\n",
        "c = \"&\"\n",
        "for i in range(a):\n",
        "  print(a, end =\"\")\n",
        "print(c, end=\"\")\n",
        "for i in range(b):\n",
        "  print(b,end=\"\")\n",
        "\n",
        "\n",
        "# another way\n",
        "a = 6\n",
        "b = 4\n",
        "c = \"&\"\n",
        "\n",
        "print(str(a) * a + c + str(b) * b)\n",
        "\n",
        "\n",
        "#using while loop\n",
        "a = 6\n",
        "b = 4\n",
        "c = \"&\"\n",
        "\n",
        "i = 0\n",
        "while i < a:\n",
        "    print(a, end=\"\")\n",
        "    i += 1\n",
        "\n",
        "print(c, end=\"\")\n",
        "\n",
        "j = 0\n",
        "while j < b:\n",
        "    print(b, end=\"\")\n",
        "    j += 1\n",
        "\n",
        "print()  # optional: to move to the next line after output"
      ],
      "metadata": {
        "colab": {
          "base_uri": "https://localhost:8080/"
        },
        "id": "0AD4UcSIRYoY",
        "outputId": "2d70a324-2d14-494e-d7bd-d32726a80856"
      },
      "execution_count": null,
      "outputs": [
        {
          "output_type": "stream",
          "name": "stdout",
          "text": [
            "666666&4444666666&4444\n",
            "666666&4444\n"
          ]
        }
      ]
    },
    {
      "cell_type": "markdown",
      "source": [
        "\n",
        "**15th May 2025**\n",
        "\n",
        "**Input In Python**\n",
        "\n",
        "You need to perform three separate tasks based on the given input:\n",
        "\n",
        "String Input and Print: Take a text input as a string and print it as it is.\n",
        "\n",
        "Integer Input and Add: Take an integer input n, add 10 to it, and print the result.\n",
        "\n",
        "Float Input and Multiply: Take a floating-point number as input, multiply it by 10, and print the result.\n",
        "\n",
        "Input: s = \"Hello\", n = 20, f = 5.5\n",
        "\n",
        "Output:\n",
        "\n",
        "Hello\n",
        "\n",
        "30\n",
        "\n",
        "55.0\n",
        "\n",
        "Explanation:\n",
        "\n",
        "The string Hello is printed as it is.\n",
        "\n",
        "The integer 20 is increased by 10 and results in 30.\n",
        "\n",
        "The floating-point number 5.5 is multiplied by 10 and results in 55.0.\n"
      ],
      "metadata": {
        "id": "YM133PPHz0Et"
      }
    },
    {
      "cell_type": "code",
      "source": [
        "s, n, f = \"Hello\", 20, 5.5\n",
        "print(s)\n",
        "print(n + 10)\n",
        "print(f * 10)"
      ],
      "metadata": {
        "colab": {
          "base_uri": "https://localhost:8080/"
        },
        "id": "qOhBRxwXzWtn",
        "outputId": "3696e4d9-33f2-4279-d537-1869c21f847a"
      },
      "execution_count": null,
      "outputs": [
        {
          "output_type": "stream",
          "name": "stdout",
          "text": [
            "Hello\n",
            "30\n",
            "55.0\n"
          ]
        }
      ]
    },
    {
      "cell_type": "markdown",
      "source": [
        "**Arithmetic Operators**\n",
        "\n",
        "You are given two integer variables x and y. You need to perform the following operations:\n",
        "\n",
        "p = x + y : Addition\n",
        "\n",
        "q = x - y : Subtraction\n",
        "\n",
        "r = x * y :Multiplication\n",
        "\n",
        "s = x / y : Division\n",
        "\n",
        "t = x % y : Modulo\n",
        "\n",
        "Examples:\n",
        "\n",
        "Input: x = 1, y = 2\n",
        "\n",
        "Output: 3 -1 2 0 1\n",
        "\n",
        "Explanation: The given operations are performed.\n",
        "\n",
        "Input: x = 3, y = 4\n",
        "\n",
        "Output: 7 -1 12 0 3\n",
        "\n",
        "Explanation: The given operations are performed\n"
      ],
      "metadata": {
        "id": "7ZaeFoPi06cM"
      }
    },
    {
      "cell_type": "code",
      "source": [
        "x = 1\n",
        "y = 2\n",
        "p = x + y\n",
        "q = x - y\n",
        "r = x * y\n",
        "s = x // y\n",
        "t = x % y\n",
        "print(p, q, r, s, t)"
      ],
      "metadata": {
        "colab": {
          "base_uri": "https://localhost:8080/"
        },
        "id": "3uh6-bLm04y_",
        "outputId": "c93d52f4-f5f1-43b1-b207-8ffdac3df0f5"
      },
      "execution_count": null,
      "outputs": [
        {
          "output_type": "stream",
          "name": "stdout",
          "text": [
            "3 -1 2 0 1\n"
          ]
        }
      ]
    },
    {
      "cell_type": "markdown",
      "source": [
        "**Logical Operators**\n",
        "\n",
        "Logical operators and, or, not are used in condition checking. Like a and b checks if both a and b are True. First a is checked then b is checked. a or b checks if either of a or b is True. If one is True; it doesn't check for the other. not a complements the boolean value of a.\n",
        "\n",
        "Note: 0 and empty string are False and all other values are True.\n",
        "In this question you basically need to do\n",
        "\n",
        "a and b\n",
        "\n",
        "a or b\n",
        "\n",
        "not a\n",
        "\n",
        "Examples:\n",
        "\n",
        "Input: a = 0, b = 2\n",
        "\n",
        "Output: 0 2 True\n",
        "\n",
        "Explanation: 0 and 2 gives 0. 0 or 2 gives 2. not 0 give True as 0 is False."
      ],
      "metadata": {
        "id": "99xjNMFc2fhX"
      }
    },
    {
      "cell_type": "code",
      "source": [
        "a = 0\n",
        "b = 2\n",
        "print(a and b, a or b, not a)"
      ],
      "metadata": {
        "colab": {
          "base_uri": "https://localhost:8080/"
        },
        "id": "GSyPv-Hu2d4f",
        "outputId": "16d571a4-6be5-4480-b728-a56289011b62"
      },
      "execution_count": null,
      "outputs": [
        {
          "output_type": "stream",
          "name": "stdout",
          "text": [
            "0 2 True\n"
          ]
        }
      ]
    },
    {
      "cell_type": "markdown",
      "source": [
        "**Bitwise Operators**\n",
        "Given three positive integers a, b and c. Your task is to perform some bitwise operations on them as given below:\n",
        "1. d = a ^ a\n",
        "2. e = c ^ b\n",
        "3. f = a & b\n",
        "4. g = c | (a ^ a)\n",
        "5. e = ~ e\n",
        "Note: ^ is for xor.\n",
        "Then print d e f g space seperately. Move the cursor to the next line after printing.\n",
        "\n",
        "Examples:\n",
        "\n",
        "Input: a = 1, b = 2, c = 3\n",
        "\n",
        "Output: 0 -2 0 3\n",
        "\n",
        "Explanation: We print d e f g after performing the given operations."
      ],
      "metadata": {
        "id": "0TIYV-9P33OD"
      }
    },
    {
      "cell_type": "code",
      "source": [
        "a, b, c = 1, 2, 3\n",
        "d = a ^ a\n",
        "e = c ^ b\n",
        "f = a & b\n",
        "g = c | (a ^ a)\n",
        "e = ~e\n",
        "print(d, e, f, g)"
      ],
      "metadata": {
        "colab": {
          "base_uri": "https://localhost:8080/"
        },
        "id": "v7Eyy2EK3Vm1",
        "outputId": "650dee4b-d105-461e-ecc8-ff62e33b330c"
      },
      "execution_count": null,
      "outputs": [
        {
          "output_type": "stream",
          "name": "stdout",
          "text": [
            "0 -2 0 3 -2\n"
          ]
        }
      ]
    },
    {
      "cell_type": "markdown",
      "source": [
        "**Type Conversion**\n",
        "\n",
        "Given a double value d, typecast it to an integer value and print it.\n",
        "\n",
        "Example:\n",
        "\n",
        "Input: d = 10.23\n",
        "\n",
        "Output: 10\n",
        "\n",
        "Explanation: The integer value of 10.23 is 10"
      ],
      "metadata": {
        "id": "7tAfhrhp43cc"
      }
    },
    {
      "cell_type": "code",
      "source": [
        "d = 10.23\n",
        "print(int(d))"
      ],
      "metadata": {
        "colab": {
          "base_uri": "https://localhost:8080/"
        },
        "id": "sGF2AaVt42zR",
        "outputId": "073c705e-35ff-4289-910b-af5da255bdf9"
      },
      "execution_count": null,
      "outputs": [
        {
          "output_type": "stream",
          "name": "stdout",
          "text": [
            "10\n"
          ]
        }
      ]
    },
    {
      "cell_type": "markdown",
      "source": [
        "**TypeCast And Double It**\n",
        "\n",
        "Given an input num as a string. You need to typecast into an integer and double it.\n",
        "\n",
        "Examples:\n",
        "\n",
        "Input: num = \"5\"\n",
        "\n",
        "Output: 10\n",
        "\n",
        "Explanation: Typecast \"5\" to int and then double it 5 * 2 = 10\n",
        "\n",
        "Input: num = \"12\"\n",
        "\n",
        "Output: 24\n",
        "\n",
        "Explanation: Typecast \"12\" to int and then double it 12 * 2 = 24"
      ],
      "metadata": {
        "id": "pZj5OHZ15lLM"
      }
    },
    {
      "cell_type": "code",
      "source": [
        "num = \"5\"\n",
        "print(int(num) * 2)"
      ],
      "metadata": {
        "colab": {
          "base_uri": "https://localhost:8080/"
        },
        "id": "Zzbm-t285kIF",
        "outputId": "39750353-dccb-4b30-a15e-3df7084f902e"
      },
      "execution_count": null,
      "outputs": [
        {
          "output_type": "stream",
          "name": "stdout",
          "text": [
            "10\n"
          ]
        }
      ]
    },
    {
      "cell_type": "markdown",
      "source": [
        "**The Modulo Task**\n",
        "\n",
        "Given an integer N. FInd an integer K for which N%K is the largest ( 1 <= K < N).\n",
        "\n",
        "\n",
        "\n",
        "Example 1:\n",
        "\n",
        "Input:\n",
        "\n",
        "N = 3\n",
        "\n",
        "Output:\n",
        "\n",
        "2\n",
        "\n",
        "Explanation:\n",
        "\n",
        "3%1 = 0\n",
        "\n",
        "3%2 = 1\n",
        "\n",
        "So, the modulo is highest for 2."
      ],
      "metadata": {
        "id": "KBupyqao6SiH"
      }
    },
    {
      "cell_type": "code",
      "source": [
        "N = 3\n",
        "\n",
        "max_mod = -1\n",
        "best_k = -1\n",
        "\n",
        "for k in range(1, N):\n",
        "    current_mod = N % k\n",
        "    if current_mod > max_mod:\n",
        "        max_mod = current_mod\n",
        "        best_k = k\n",
        "\n",
        "print(best_k)"
      ],
      "metadata": {
        "colab": {
          "base_uri": "https://localhost:8080/"
        },
        "id": "bdnX22EF6Rsx",
        "outputId": "e9c0517e-2990-433b-f146-8cb3f7889589"
      },
      "execution_count": null,
      "outputs": [
        {
          "output_type": "stream",
          "name": "stdout",
          "text": [
            "2\n"
          ]
        }
      ]
    },
    {
      "cell_type": "markdown",
      "source": [
        "**Last Digit of a number**\n",
        "\n",
        "Given an integer n. Write a program to print the last digit of the number. Also, move the cursor to the next line.\n",
        "\n",
        "Examples:\n",
        "\n",
        "Input: n = 10\n",
        "\n",
        "Output: 0\n",
        "\n",
        "Input: n = 9768\n",
        "\n",
        "Output: 8"
      ],
      "metadata": {
        "id": "CYmNEfVF8Eqc"
      }
    },
    {
      "cell_type": "code",
      "source": [
        "n = 9768\n",
        "print(n % 10)"
      ],
      "metadata": {
        "colab": {
          "base_uri": "https://localhost:8080/"
        },
        "id": "CuAQRZXc8Dx4",
        "outputId": "d9ed59e5-b8fc-4350-ce22-696d9b2ec419"
      },
      "execution_count": null,
      "outputs": [
        {
          "output_type": "stream",
          "name": "stdout",
          "text": [
            "8\n"
          ]
        }
      ]
    },
    {
      "cell_type": "markdown",
      "source": [
        "**Mark Even and Odd - Python**\n",
        "\n",
        "Given a positive integer x. Your task is to check, if it is even or odd (Any number that gives zero as remainder when divided by 2 is an even number)\n",
        "\n",
        "Examples\n",
        "\n",
        "Input: x = 4\n",
        "\n",
        "Output: Even\n",
        "\n",
        "Input: x = 5\n",
        "\n",
        "Output: Odd\n"
      ],
      "metadata": {
        "id": "ytSxRHaC9Lgt"
      }
    },
    {
      "cell_type": "code",
      "source": [
        "x = 5\n",
        "if x % 2 == 0:\n",
        "  print(\"Even\")\n",
        "else:\n",
        "  print(\"Odd\")"
      ],
      "metadata": {
        "id": "5SbVIjef9Kb7",
        "colab": {
          "base_uri": "https://localhost:8080/"
        },
        "outputId": "6084dc28-8f40-43c5-bf08-8617c30212ce"
      },
      "execution_count": null,
      "outputs": [
        {
          "output_type": "stream",
          "name": "stdout",
          "text": [
            "Odd\n"
          ]
        }
      ]
    },
    {
      "cell_type": "markdown",
      "source": [
        "**Check the status - Python**\n",
        "\n",
        "Given two integer variables a and b, and a boolean variable flag. The task is to check the status and return accordingly.\n",
        "\n",
        "Return True for the following cases:\n",
        "\n",
        "Either a or b (not both) is non-negative and the flag is false.\n",
        "Both a and b are negative and the flag is true.\n",
        "Otherwise, return False.\n",
        "\n",
        "Examples:\n",
        "\n",
        "Input: a = 1, b = -1, flag = False\n",
        "\n",
        "Output: True\n",
        "\n",
        "Explanation: Since a is positive, b is negative, and flag is False, condition 1 holds true, so the function returns True."
      ],
      "metadata": {
        "id": "J9NExhCPFmOM"
      }
    },
    {
      "cell_type": "code",
      "source": [
        "def check_status(a, b, flag):\n",
        "    if flag:\n",
        "        return a < 0 and b < 0\n",
        "    else:\n",
        "        return (a >= 0 and b < 0) or (a < 0 and b >= 0)\n",
        "\n",
        "# Example usage\n",
        "a = 1\n",
        "b = -1\n",
        "flag = False\n",
        "print(check_status(a, b, flag))  # Output: True"
      ],
      "metadata": {
        "colab": {
          "base_uri": "https://localhost:8080/"
        },
        "id": "-Gj_UgciFlLo",
        "outputId": "ab18edf6-ca0c-42d7-b0d9-edc31fd60aa5"
      },
      "execution_count": null,
      "outputs": [
        {
          "output_type": "stream",
          "name": "stdout",
          "text": [
            "True\n"
          ]
        }
      ]
    },
    {
      "cell_type": "markdown",
      "source": [
        "**16th MAY 2025**\n",
        "\n",
        "**EASY QUESTIONS**\n",
        "\n",
        "**Swap The Numbers**\n",
        "\n",
        "Given two numbers a and b, you need to swap their values so a holds the value of b and b holds the value of a. Just write the code to swap values of a and b at the specified place.\n",
        "\n",
        "Examples\n",
        "\n",
        "Input: a = 1, b = 2\n",
        "\n",
        "Output: 2 1\n",
        "\n",
        "Explanation: Initially a = 1 and b = 2, now a = 2 and b = 1."
      ],
      "metadata": {
        "id": "PskzKghqgRra"
      }
    },
    {
      "cell_type": "code",
      "source": [
        "a = 1\n",
        "b = 2\n",
        "temp = a\n",
        "a = b\n",
        "b = temp\n",
        "print(a, b)"
      ],
      "metadata": {
        "colab": {
          "base_uri": "https://localhost:8080/"
        },
        "id": "i6IRjgyMgRRv",
        "outputId": "a514a397-a22a-4c49-a52e-f08c5babbec5"
      },
      "execution_count": 1,
      "outputs": [
        {
          "output_type": "stream",
          "name": "stdout",
          "text": [
            "2 1\n"
          ]
        }
      ]
    },
    {
      "cell_type": "markdown",
      "source": [
        "**Test if tuple is distinct**\n",
        "\n",
        "Given a tuple arr , print \"True\" if all elements of tuple are different otherwise print \"False\".\n",
        "\n",
        "A tuple is a collection of items that are ordered and unchangeable.\n",
        "\n",
        "Input:\n",
        "\n",
        "arr = (1, 2, 3, 4, 5, 4)\n",
        "\n",
        "Output: False\n",
        "\n",
        "Input:\n",
        "\n",
        "arr = (1, 2, 3, 4, 5)\n",
        "\n",
        "Output: True"
      ],
      "metadata": {
        "id": "WCLTkV0zhag5"
      }
    },
    {
      "cell_type": "code",
      "source": [
        "arr = (1, 2, 3, 4, 5, 4)\n",
        "\n",
        "if len(arr) == len(set(arr)):\n",
        "    print(\"True\")\n",
        "else:\n",
        "    print(\"False\")\n",
        "\n",
        "\n",
        "\n",
        "# Explaination :\n",
        "\n",
        "#A tuple can have duplicate elements.\n",
        "\n",
        "#A set cannot have duplicates.\n",
        "\n",
        "#So if len(arr) == len(set(arr)), then all elements in the tuple are unique.\n",
        "\n",
        "#arr = (1, 2, 3, 4, 5, 4)\n",
        "# set(arr) = {1, 2, 3, 4, 5}\n",
        "# len(arr) = 6, len(set(arr)) = 5 → Output: False"
      ],
      "metadata": {
        "colab": {
          "base_uri": "https://localhost:8080/"
        },
        "id": "5ecgsulKhaD8",
        "outputId": "6d1565d1-6313-4a43-9a19-e7497c6470d4"
      },
      "execution_count": 8,
      "outputs": [
        {
          "output_type": "stream",
          "name": "stdout",
          "text": [
            "False\n"
          ]
        }
      ]
    },
    {
      "cell_type": "markdown",
      "source": [
        "**Find index**\n",
        "\n",
        "Given a tuple arr with distinct elements and an integer x, find the index position of x. Assume to have x in the tuple always. Print the index (0-based).\n",
        "\n",
        "Examples:\n",
        "\n",
        "Input: arr = (1, 2, 3, 4, 5), x = 3\n",
        "\n",
        "Output: 2\n",
        "\n",
        "Input: arr = (3, 2, 1, 5, 4), x = 5\n",
        "\n",
        "Output: 3"
      ],
      "metadata": {
        "id": "s2iqE1gOklLl"
      }
    },
    {
      "cell_type": "code",
      "source": [
        "arr = (1, 2, 3, 4, 5)\n",
        "x = 3\n",
        "find_index = arr.index(x)\n",
        "print(find_index)"
      ],
      "metadata": {
        "colab": {
          "base_uri": "https://localhost:8080/"
        },
        "id": "Of-54_d0kkaI",
        "outputId": "831f4eba-1697-43cc-d506-2b1e43790553"
      },
      "execution_count": 9,
      "outputs": [
        {
          "output_type": "stream",
          "name": "stdout",
          "text": [
            "2\n"
          ]
        }
      ]
    },
    {
      "cell_type": "markdown",
      "source": [
        "**Day before N days**\n",
        "\n",
        "Given two integers d and n. Where d is the day, out of 7 days of the week, d varies from 0 to 6 as shown below.\n",
        "\n",
        "0 - Sunday\n",
        "\n",
        "1 - Monday\n",
        "\n",
        "2 - Tuesday\n",
        "\n",
        "3 - Wednesday\n",
        "\n",
        "4 - Thursday\n",
        "\n",
        "5 - Friday\n",
        "\n",
        "6 - Saturday\n",
        "\n",
        "You have to return the index for the day which is n days before the given day d.\n",
        "\n",
        "Examples:\n",
        "\n",
        "Input: d = 4, n = 3\n",
        "\n",
        "Output: 1\n",
        "\n",
        "Explanation: 3 days before the 4th(Thursday) is 1(Monday)."
      ],
      "metadata": {
        "id": "ZNFxMuWjm1r8"
      }
    },
    {
      "cell_type": "code",
      "source": [
        "\n",
        "d = 4\n",
        "n = 3\n",
        "\n",
        "day_before = (d - n) % 7\n",
        "print(day_before)\n"
      ],
      "metadata": {
        "colab": {
          "base_uri": "https://localhost:8080/"
        },
        "id": "geeXe-S5m1DK",
        "outputId": "b0a924c4-1202-49f6-9b8f-3072db1e7433"
      },
      "execution_count": 10,
      "outputs": [
        {
          "output_type": "stream",
          "name": "stdout",
          "text": [
            "1\n"
          ]
        }
      ]
    },
    {
      "cell_type": "markdown",
      "source": [
        "**Solving queries**\n",
        "\n",
        "Given a dictionary, and a list of queries(keys), you have to find and print the value of each query from the dictionary if present else it prints \"None\".\n",
        "\n",
        "Examples:\n",
        "\n",
        "Input:\n",
        "\n",
        "dict = {1:\"abc\", 2: \"cde\", 3: \"fgh\"}\n",
        "\n",
        "query = [2, 3, 4]\n",
        "\n",
        "Output:\n",
        "\n",
        "cde\n",
        "\n",
        "fgh\n",
        "\n",
        "None"
      ],
      "metadata": {
        "id": "FZI4AoC0qEgo"
      }
    },
    {
      "cell_type": "code",
      "source": [
        "\n",
        "dict = {1:\"abc\", 2: \"cde\", 3: \"fgh\"}\n",
        "query = [2,3,4]\n",
        "for i in query:\n",
        "  if i in dict:\n",
        "   print((dict[i]))\n",
        "  else:\n",
        "   print(\"None\")"
      ],
      "metadata": {
        "colab": {
          "base_uri": "https://localhost:8080/"
        },
        "id": "eqR0S0o1qD3M",
        "outputId": "44e31690-543f-48c0-ad56-a63bb07e0e64"
      },
      "execution_count": 23,
      "outputs": [
        {
          "output_type": "stream",
          "name": "stdout",
          "text": [
            "cde\n",
            "fgh\n",
            "None\n"
          ]
        }
      ]
    },
    {
      "cell_type": "markdown",
      "source": [
        "**Table Difference**\n",
        "\n",
        "Given two number n1 and n2, n1 > n2. Find the differences between mathematical tables of n1 and n2 and print in a single line.\n",
        "Note: Don't add a new line in the end.\n",
        "\n",
        "Example :\n",
        "\n",
        "Input: n1 = 9, n2 = 4\n",
        "\n",
        "Output: 5 10 15 20 25 30 35 40 45 50\n",
        "\n",
        "Explanation:\n",
        "\n",
        "  9 18 27 36 45 54 63 72 81 90\n",
        "\n",
        "- 4  8 12 16 20 24 28 32 36 40\n",
        "\n",
        "-----------------------------------------\n",
        "\n",
        "= 5 10 15 20 25 30 35 40 45 50"
      ],
      "metadata": {
        "id": "QcqOggB9trtg"
      }
    },
    {
      "cell_type": "code",
      "source": [
        "n1 = 9\n",
        "n2 = 4\n",
        "for i in range(1, 11):\n",
        "  print(i * n1 - i * n2, end = \" \")"
      ],
      "metadata": {
        "colab": {
          "base_uri": "https://localhost:8080/"
        },
        "id": "2cvcNJpvtfc3",
        "outputId": "6c962899-6aba-4604-aa28-5e2784ba8b6b"
      },
      "execution_count": 25,
      "outputs": [
        {
          "output_type": "stream",
          "name": "stdout",
          "text": [
            "5 10 15 20 25 30 35 40 45 50 "
          ]
        }
      ]
    },
    {
      "cell_type": "markdown",
      "source": [
        "**Print Square Wall Using Nested Loops**\n",
        "\n",
        "Given an integer n,  write a program to print the square wall of size n using nested loops. Try not to use String multiplication.\n",
        "\n",
        "Examples:\n",
        "\n",
        "Input: n = 5\n",
        "Output:\n",
        "* * * * *\n",
        "* * * * *\n",
        "* * * * *\n",
        "* * * * *\n",
        "* * * * *\n",
        "Explanation: Its perfect square wall."
      ],
      "metadata": {
        "id": "CoKwFulyvO_X"
      }
    },
    {
      "cell_type": "code",
      "source": [
        "n = 5\n",
        "for i in range(1, n + 1):\n",
        "  for j in range(1, j + 1):\n",
        "    print(\"*\", end = \"\")\n",
        "  print()"
      ],
      "metadata": {
        "colab": {
          "base_uri": "https://localhost:8080/"
        },
        "id": "Awhmnqu4vNvD",
        "outputId": "fd92415a-8524-4782-a805-bdfd925206b2"
      },
      "execution_count": 26,
      "outputs": [
        {
          "output_type": "stream",
          "name": "stdout",
          "text": [
            "*****\n",
            "*****\n",
            "*****\n",
            "*****\n",
            "*****\n"
          ]
        }
      ]
    }
  ]
}